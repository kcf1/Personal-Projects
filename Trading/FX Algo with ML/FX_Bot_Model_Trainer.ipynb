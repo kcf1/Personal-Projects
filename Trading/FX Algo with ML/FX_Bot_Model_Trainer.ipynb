{
 "cells": [
  {
   "cell_type": "code",
   "execution_count": 1,
   "metadata": {},
   "outputs": [
    {
     "name": "stderr",
     "output_type": "stream",
     "text": [
      "/var/folders/vh/jb52psn93fb96vlsr5_kn4m80000gn/T/ipykernel_27592/2013904392.py:1: DeprecationWarning: \n",
      "Pyarrow will become a required dependency of pandas in the next major release of pandas (pandas 3.0),\n",
      "(to allow more performant data types, such as the Arrow string type, and better interoperability with other libraries)\n",
      "but was not found to be installed on your system.\n",
      "If this would cause problems for you,\n",
      "please provide us feedback at https://github.com/pandas-dev/pandas/issues/54466\n",
      "        \n",
      "  import pandas as pd\n"
     ]
    }
   ],
   "source": [
    "import pandas as pd\n",
    "import numpy as np\n",
    "import yfinance as yf\n",
    "from datetime import datetime as dt\n",
    "from sklearn.neighbors import KNeighborsClassifier\n",
    "import pickle\n",
    "\n",
    "from ta.trend import MACD\n",
    "from ta.momentum import RSIIndicator\n",
    "from ta.momentum import StochasticOscillator\n",
    "from ta.volatility import BollingerBands\n",
    "from ta.volume import AccDistIndexIndicator\n",
    "from ta.volatility import AverageTrueRange"
   ]
  },
  {
   "cell_type": "markdown",
   "metadata": {},
   "source": [
    "# Data feed"
   ]
  },
  {
   "cell_type": "code",
   "execution_count": 2,
   "metadata": {},
   "outputs": [
    {
     "name": "stderr",
     "output_type": "stream",
     "text": [
      "/Users/benkan45d6/opt/anaconda3/envs/py10/lib/python3.10/site-packages/yfinance/utils.py:775: FutureWarning: The 'unit' keyword in TimedeltaIndex construction is deprecated and will be removed in a future version. Use pd.to_timedelta instead.\n",
      "  df.index += _pd.TimedeltaIndex(dst_error_hours, 'h')\n",
      "[*********************100%%**********************]  1 of 1 completed\n",
      "/Users/benkan45d6/opt/anaconda3/envs/py10/lib/python3.10/site-packages/yfinance/utils.py:775: FutureWarning: The 'unit' keyword in TimedeltaIndex construction is deprecated and will be removed in a future version. Use pd.to_timedelta instead.\n",
      "  df.index += _pd.TimedeltaIndex(dst_error_hours, 'h')\n",
      "[*********************100%%**********************]  1 of 1 completed\n",
      "/Users/benkan45d6/opt/anaconda3/envs/py10/lib/python3.10/site-packages/yfinance/utils.py:775: FutureWarning: The 'unit' keyword in TimedeltaIndex construction is deprecated and will be removed in a future version. Use pd.to_timedelta instead.\n",
      "  df.index += _pd.TimedeltaIndex(dst_error_hours, 'h')\n",
      "[*********************100%%**********************]  1 of 1 completed\n",
      "/Users/benkan45d6/opt/anaconda3/envs/py10/lib/python3.10/site-packages/yfinance/utils.py:775: FutureWarning: The 'unit' keyword in TimedeltaIndex construction is deprecated and will be removed in a future version. Use pd.to_timedelta instead.\n",
      "  df.index += _pd.TimedeltaIndex(dst_error_hours, 'h')\n",
      "[*********************100%%**********************]  1 of 1 completed\n",
      "/Users/benkan45d6/opt/anaconda3/envs/py10/lib/python3.10/site-packages/yfinance/utils.py:775: FutureWarning: The 'unit' keyword in TimedeltaIndex construction is deprecated and will be removed in a future version. Use pd.to_timedelta instead.\n",
      "  df.index += _pd.TimedeltaIndex(dst_error_hours, 'h')\n",
      "[*********************100%%**********************]  1 of 1 completed\n",
      "/Users/benkan45d6/opt/anaconda3/envs/py10/lib/python3.10/site-packages/yfinance/utils.py:775: FutureWarning: The 'unit' keyword in TimedeltaIndex construction is deprecated and will be removed in a future version. Use pd.to_timedelta instead.\n",
      "  df.index += _pd.TimedeltaIndex(dst_error_hours, 'h')\n",
      "[*********************100%%**********************]  1 of 1 completed\n",
      "/Users/benkan45d6/opt/anaconda3/envs/py10/lib/python3.10/site-packages/yfinance/utils.py:775: FutureWarning: The 'unit' keyword in TimedeltaIndex construction is deprecated and will be removed in a future version. Use pd.to_timedelta instead.\n",
      "  df.index += _pd.TimedeltaIndex(dst_error_hours, 'h')\n",
      "[*********************100%%**********************]  1 of 1 completed\n"
     ]
    }
   ],
   "source": [
    "symbols = ['EURUSD=X','USDJPY=X','GBPUSD=X','USDCHF=X','AUDUSD=X','USDCAD=X','NZDUSD=X']\n",
    "\n",
    "data = dict()\n",
    "for symbol in symbols:\n",
    "    data[symbol] = yf.download(symbol,interval='1d')"
   ]
  },
  {
   "cell_type": "markdown",
   "metadata": {},
   "source": [
    "# Add TA features"
   ]
  },
  {
   "cell_type": "code",
   "execution_count": 4,
   "metadata": {},
   "outputs": [],
   "source": [
    "def add_ta_signals(df):\n",
    "    df = df.copy()\n",
    "\n",
    "    o,h,l,c,v = df['Open'],df['High'],df['Low'],df['Close'],df['Volume']\n",
    "    \n",
    "    df['Ret'] = np.log(c).diff().shift(-1)\n",
    "\n",
    "    df['MACDD'] = MACD(c).macd_diff()\n",
    "    df['MACDS'] = MACD(c).macd_signal()\n",
    "\n",
    "    df['RSI'] = RSIIndicator(c).rsi()\n",
    "\n",
    "    df['SO'] = StochasticOscillator(h,l,c).stoch()\n",
    "    df['SOS'] = StochasticOscillator(h,l,c).stoch_signal()\n",
    "\n",
    "    df['BBH'] = BollingerBands(c).bollinger_hband_indicator() - c\n",
    "    df['BBL'] = BollingerBands(c).bollinger_lband_indicator() - c\n",
    "\n",
    "    df['ADI'] = AccDistIndexIndicator(h,l,c,v).acc_dist_index()\n",
    "\n",
    "    df['HLR'] = c / (h.rolling(252).max() - l.rolling(252).min()) - 1 / 2\n",
    "\n",
    "    df['ATR'] = AverageTrueRange(h,l,c).average_true_range()\n",
    "\n",
    "    df = df.drop(columns=['Open','High','Low','Close','Adj Close','Volume'])\n",
    "    #df.iloc[:,1:-1] = df.iloc[:,1:-1].div(df.loc[:,'ATR'],axis=0)\n",
    "    return df"
   ]
  },
  {
   "cell_type": "code",
   "execution_count": 5,
   "metadata": {},
   "outputs": [],
   "source": [
    "train_data = dict()\n",
    "for symbol in symbols:\n",
    "    ta_data = add_ta_signals(data[symbol])\n",
    "    train_data[symbol] = ta_data.dropna()"
   ]
  },
  {
   "cell_type": "code",
   "execution_count": 6,
   "metadata": {},
   "outputs": [],
   "source": [
    "concat_train_data = pd.concat(train_data.values())"
   ]
  },
  {
   "cell_type": "code",
   "execution_count": 7,
   "metadata": {},
   "outputs": [],
   "source": [
    "knns = [KNeighborsClassifier(n_neighbors=10) for _ in range(100)]\n",
    "for i,knn in enumerate(knns):\n",
    "        bootstrap_train_data = concat_train_data.sample(frac=0.3,replace=True)\n",
    "        knn.fit(X=bootstrap_train_data.iloc[:,1:],\n",
    "                y=np.sign(bootstrap_train_data.iloc[:,0]))"
   ]
  },
  {
   "cell_type": "markdown",
   "metadata": {},
   "source": [
    "# Save model"
   ]
  },
  {
   "cell_type": "code",
   "execution_count": 11,
   "metadata": {},
   "outputs": [
    {
     "name": "stdout",
     "output_type": "stream",
     "text": [
      "Models are not saved.\n"
     ]
    }
   ],
   "source": [
    "is_save = input('Are you sure to save the models? This may overwrite the existing models. (y/n)')\n",
    "if is_save == 'y':\n",
    "    is_confirm = input('Please re-confirm. (y/n)')\n",
    "    if is_confirm == 'y':\n",
    "        for i in range(100):\n",
    "            with open(f'models/knn_{i}.pkl','wb') as f:\n",
    "                pickle.dump(knns[i],f)\n",
    "        print('Models are saved.')\n",
    "    print('Models are not saved.')\n",
    "else:\n",
    "    print('Models are not saved.')"
   ]
  }
 ],
 "metadata": {
  "kernelspec": {
   "display_name": "py10",
   "language": "python",
   "name": "python3"
  },
  "language_info": {
   "codemirror_mode": {
    "name": "ipython",
    "version": 3
   },
   "file_extension": ".py",
   "mimetype": "text/x-python",
   "name": "python",
   "nbconvert_exporter": "python",
   "pygments_lexer": "ipython3",
   "version": "3.10.9"
  }
 },
 "nbformat": 4,
 "nbformat_minor": 2
}

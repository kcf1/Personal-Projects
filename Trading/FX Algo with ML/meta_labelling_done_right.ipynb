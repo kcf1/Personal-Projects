{
  "cells": [
    {
      "cell_type": "code",
      "execution_count": 1,
      "metadata": {
        "id": "H3Dn4K22Drpn"
      },
      "outputs": [],
      "source": [
        "import yfinance as yf\n",
        "import pandas as pd\n",
        "import numpy as np\n",
        "import matplotlib.pyplot as plt\n",
        "import seaborn as sns\n",
        "from itertools import product\n",
        "import time\n",
        "import sys\n",
        "import numba\n",
        "import pickle"
      ]
    },
    {
      "cell_type": "code",
      "execution_count": 2,
      "metadata": {
        "colab": {
          "base_uri": "https://localhost:8080/"
        },
        "id": "9Ke5o-xqDw-K",
        "outputId": "c0a1dc94-4a52-4cf3-f464-1df239320b84"
      },
      "outputs": [
        {
          "name": "stdout",
          "output_type": "stream",
          "text": [
            "[*********************100%***********************]  1 of 1 completed\n",
            "[*********************100%***********************]  1 of 1 completed\n",
            "[*********************100%***********************]  1 of 1 completed\n",
            "[*********************100%***********************]  1 of 1 completed\n",
            "[*********************100%***********************]  1 of 1 completed\n",
            "[*********************100%***********************]  1 of 1 completed\n"
          ]
        }
      ],
      "source": [
        "symbols = ['AUDUSD=X','EURUSD=X','GBPUSD=X','USDCAD=X','NZDUSD=X','USDJPY=X']\n",
        "all_data = dict()\n",
        "for symbol in symbols:\n",
        "  all_data[symbol] = np.log(yf.download(symbol).Close)"
      ]
    },
    {
      "cell_type": "markdown",
      "metadata": {
        "id": "86QAdfbh7X1O"
      },
      "source": [
        "# Evaluation"
      ]
    },
    {
      "cell_type": "code",
      "execution_count": 3,
      "metadata": {
        "id": "yCGZ2vHu7Y9H"
      },
      "outputs": [],
      "source": [
        "import pandas_datareader as pdr\n",
        "import statsmodels.api as sm\n",
        "class Evaluator():\n",
        "  from datetime import datetime as dt\n",
        "  from scipy.stats import t\n",
        "\n",
        "  ff3_reader = pdr.famafrench.FamaFrenchReader('F-F_Research_Data_Factors_daily',start='1900-01-01',end=str(dt.today()))\n",
        "  ff3 = ff3_reader.read()[0]/100\n",
        "  ff3_reader.close()\n",
        "\n",
        "  mom_reader = pdr.famafrench.FamaFrenchReader('F-F_Momentum_Factor_daily',start='1900-01-01',end=str(dt.today()))\n",
        "  mom = mom_reader.read()[0]/100\n",
        "  mom_reader.close()\n",
        "\n",
        "  fourFactor = pd.concat([ff3,mom],axis=1)\n",
        "  def __init__(self,returns):\n",
        "    self.set_returns(returns)\n",
        "    self.set_fourFactor()\n",
        "  def set_fourFactor(self):\n",
        "    self.fourFactor['Strategy-RF'] = self.returns - self.fourFactor['RF']\n",
        "    self.fourFactor.dropna(inplace=True)\n",
        "  def set_returns(self,returns):\n",
        "    self.returns = returns.copy()\n",
        "  def reset_summary(self):\n",
        "    self.summary = pd.DataFrame()\n",
        "  def get_summary(self):\n",
        "    self.reset_summary()\n",
        "    pd.set_option('display.float_format', lambda x: f'{x:.4f}')\n",
        "    summary = pd.DataFrame()\n",
        "    summary.loc['CAGR',['Value','Sample size']] = self.get_CAGR()\n",
        "    summary.loc['Mean',['Value','Sample size']] = self.get_mean()\n",
        "    summary.loc['Vol',['Value','Sample size']] = self.get_vol()\n",
        "    summary.loc['SR',['Value','Sample size','P-value']] = self.get_sharpeRatio()\n",
        "    summary.loc['CAPM Alpha',['Value','Sample size','P-value']] = self.get_CAPMAlpha()\n",
        "    summary.loc['Carhart Alpha',['Value','Sample size','P-value']] = self.get_CarhartAlpha()\n",
        "    summary.loc['Beta',['Value','Sample size','P-value']] = self.get_beta()\n",
        "    summary.loc['Skew',['Value','Sample size']] = self.get_skew()\n",
        "    summary.loc['Skew (M)',['Value','Sample size']] = self.get_monthlySkew()\n",
        "    summary.loc['Kurt',['Value','Sample size']] = self.get_kurt()\n",
        "    summary.loc['Avg Drawdown',['Value','Sample size']] = self.get_avgDrawdown()\n",
        "    summary.loc['Max Drawdown',['Value','Sample size']] = self.get_maxDrawdown()\n",
        "    summary.loc['Kurt',['Value','Sample size']] = self.get_kurt()\n",
        "    summary.loc['Downside Risk',['Value','Sample size']] = self.get_downsideRisk()\n",
        "    summary.loc['VaR 95%',['Value','Sample size']] = self.get_VaR(0.95)\n",
        "    summary.loc['Exp Shortfall 95%',['Value','Sample size']] = self.get_expectedShortfall(0.95)\n",
        "    summary.loc['VaR 99%',['Value','Sample size']] = self.get_VaR(0.99)\n",
        "    summary.loc['Exp Shortfall 99%',['Value','Sample size']] = self.get_expectedShortfall(0.99)\n",
        "    self.summary = summary\n",
        "    return self.summary\n",
        "  def get_cumsum(self):\n",
        "    cumsum = self.returns.cumsum()\n",
        "    return cumsum\n",
        "  def get_cumprod(self):\n",
        "    cumprod = (1+self.returns).cumprod()\n",
        "    return cumprod\n",
        "  def get_cumRet(self):\n",
        "    cumprod = self.get_cumprod()[-1]\n",
        "    cumRet = cumprod-1\n",
        "    sampleSize = cumprod.size\n",
        "    return cumRet,sampleSize\n",
        "  def get_CAGR(self):\n",
        "    cumprod= self.get_cumprod()\n",
        "    cumRet,sampleSize = cumprod[-1],cumprod.size\n",
        "    years = sampleSize/252\n",
        "    CAGR = cumRet**(1/years)-1\n",
        "    print(cumRet,(1/years))\n",
        "    return CAGR,sampleSize\n",
        "  def get_CAPMAlpha(self):\n",
        "    Y = self.fourFactor['Strategy-RF']\n",
        "    X = sm.add_constant(self.fourFactor['Mkt-RF'])\n",
        "    sampleSize = Y.size\n",
        "    model = sm.OLS(Y,X)\n",
        "    result = model.fit()\n",
        "    alpha = result.params[0]*252\n",
        "    p = result.pvalues[0]\n",
        "    return alpha,sampleSize,p\n",
        "  def get_beta(self):\n",
        "    Y = self.fourFactor['Strategy-RF']\n",
        "    X = sm.add_constant(self.fourFactor['Mkt-RF'])\n",
        "    sampleSize = Y.size\n",
        "    model = sm.OLS(Y,X)\n",
        "    result = model.fit()\n",
        "    beta = result.params[1]\n",
        "    p = result.pvalues[1]\n",
        "    return beta,sampleSize,p\n",
        "  def get_CarhartAlpha(self):\n",
        "    Y = self.fourFactor['Strategy-RF']\n",
        "    X = sm.add_constant(self.fourFactor[['Mkt-RF','SMB','HML','Mom   ']])\n",
        "    sampleSize = Y.size\n",
        "    model = sm.OLS(Y,X)\n",
        "    result = model.fit()\n",
        "    alpha = result.params[0]*252\n",
        "    p = result.pvalues[0]\n",
        "    return alpha,sampleSize,p\n",
        "  def get_CAPMSummary(self):\n",
        "    Y = self.fourFactor['Strategy-RF']\n",
        "    X = sm.add_constant(self.fourFactor['Mkt-RF'])\n",
        "    model = sm.OLS(Y,X)\n",
        "    result = model.fit()\n",
        "    return result.summary()\n",
        "  def get_CarhartSummary(self):\n",
        "    Y = self.fourFactor['Strategy-RF']\n",
        "    X = sm.add_constant(self.fourFactor[['Mkt-RF','SMB','HML','Mom   ']])\n",
        "    model = sm.OLS(Y,X)\n",
        "    result = model.fit()\n",
        "    return result.summary()\n",
        "  def get_factorCorr(self):\n",
        "    return self.fourFactor.corr()\n",
        "  def get_mean(self):\n",
        "    mean = self.returns.mean()*252\n",
        "    sampleSize = self.returns.size\n",
        "    return mean,sampleSize\n",
        "  def get_vol(self):\n",
        "    vol = self.returns.std()*np.sqrt(252)\n",
        "    sampleSize = self.returns.size\n",
        "    return vol,sampleSize\n",
        "  def get_sharpeRatio(self):\n",
        "    sharpeRatio = self.get_mean()[0]/self.get_vol()[0]\n",
        "    sampleSize = self.returns.size\n",
        "\n",
        "    t_stat = sharpeRatio * np.sqrt(sampleSize)\n",
        "    # p-value for 2-sided test\n",
        "    p_2sided = 2*(1 - Evaluator.t.cdf(abs(t_stat), sampleSize))\n",
        "\n",
        "    return sharpeRatio,sampleSize,p_2sided\n",
        "  def get_monthlyReturns(self):\n",
        "    monthlyReturns = self.returns.resample('M').sum()\n",
        "    return monthlyReturns\n",
        "  def get_monthlySkew(self):\n",
        "    monthlyReturns = self.get_monthlyReturns()\n",
        "    monthlySkew = monthlyReturns.skew()\n",
        "    sampleSize = monthlyReturns.size\n",
        "    return monthlySkew,sampleSize\n",
        "  def get_skew(self):\n",
        "    skew = self.returns.skew()\n",
        "    sampleSize = self.returns.size\n",
        "    return skew,sampleSize\n",
        "  def get_kurt(self):\n",
        "    kurt = self.returns.kurt()\n",
        "    sampleSize = self.returns.size\n",
        "    return kurt,sampleSize\n",
        "  def get_downsideRisk(self,requiredReturn=0):\n",
        "    downside = requiredReturn-self.returns\n",
        "    downside[downside>0] = 0\n",
        "    downsideRisk = np.sqrt((downside**2).mean())*np.sqrt(252)\n",
        "    sampleSize = downside[downside<0].size\n",
        "    return downsideRisk,sampleSize\n",
        "  def get_VaR(self,confidence=0.99):\n",
        "    VaR = self.returns.quantile(q=(1-confidence))\n",
        "    sampleSize = self.returns.size\n",
        "    return VaR,sampleSize\n",
        "  def get_expectedShortfall(self,confidence=0.99):\n",
        "    VaR = self.get_VaR(confidence)[0]\n",
        "    shortfall = self.returns[self.returns<VaR]\n",
        "    expectedShortfall = shortfall.mean()\n",
        "    sampleSize = shortfall.size\n",
        "    return expectedShortfall,sampleSize\n",
        "  def get_drawdowns(self):\n",
        "    cumprod = self.get_cumprod()\n",
        "    drawdowns = cumprod - cumprod.expanding().max()\n",
        "    drawdowns = drawdowns[drawdowns<0]\n",
        "    return drawdowns\n",
        "  def get_maxDrawdown(self):\n",
        "    maxDrawdown = self.get_drawdowns().min()\n",
        "    sampleSize = 1\n",
        "    return maxDrawdown,sampleSize\n",
        "  def get_avgDrawdown(self):\n",
        "    drawdowns = self.get_drawdowns()\n",
        "    avgDrawdown = drawdowns.mean()\n",
        "    sampleSize = drawdowns.size\n",
        "    return avgDrawdown,sampleSize"
      ]
    },
    {
      "cell_type": "markdown",
      "metadata": {
        "id": "v29x7vayzrB1"
      },
      "source": [
        "# Features"
      ]
    },
    {
      "cell_type": "code",
      "execution_count": 4,
      "metadata": {
        "id": "f6tmdTayMsk3"
      },
      "outputs": [],
      "source": [
        "def de_lag(feat,lookback=20):\n",
        "  delag = feat - feat.shift(lookback)\n",
        "  return delag\n",
        "def de_mean(feat,lookback=120):\n",
        "  demean = feat - feat.rolling(lookback).mean()\n",
        "  return demean\n",
        "def de_med(feat,lookback=120):\n",
        "  demean = feat - feat.rolling(lookback).median()\n",
        "  return demean\n",
        "def de_std(feat,lookback=120):\n",
        "  devar = feat / feat.rolling(lookback).std()\n",
        "  return devar\n",
        "def de_iqr(feat,lookback=120):\n",
        "  devar = feat / (feat.rolling(lookback).quantile(0.75) - feat.rolling(lookback).quantile(0.25))\n",
        "  return devar\n",
        "def tr_root(feat,deg=2):\n",
        "  if deg == 2:\n",
        "    trroot = pd.Series(np.sqrt(feat) , index=feat.index)\n",
        "  elif deg == 3:\n",
        "    trroot = pd.Series(np.cbrt(feat) , index=feat.index)\n",
        "  return trroot\n",
        "def tr_log(feat):\n",
        "  trlog = np.log(feat)\n",
        "  return trlog\n",
        "def log_tail(feat,lookback=120,threshold=0.05):\n",
        "  feat = feat.copy()\n",
        "  ltail = feat.rolling(lookback).quantile(threshold)\n",
        "  utail = feat.rolling(lookback).quantile(1-threshold)\n",
        "  #feat.loc[feat < ltail] = ltail + np.log(feat.loc[feat < ltail] / ltail)\n",
        "  feat.loc[feat > utail] = utail + np.log(feat.loc[feat > utail] / utail)\n",
        "  return feat\n",
        "def logistic(feat):\n",
        "  denom = 1 + np.exp(-feat)\n",
        "  logistic = 1 / denom\n",
        "  return logistic"
      ]
    },
    {
      "cell_type": "code",
      "execution_count": 10,
      "metadata": {
        "id": "RPw7G2ceD9DK"
      },
      "outputs": [],
      "source": [
        "from scipy.stats import linregress\n",
        "def get_slope(logprc):\n",
        "  y,x = logprc,range(1,1+logprc.shape[0])\n",
        "  slope = linregress(x,y)[0]\n",
        "  return slope\n",
        "def get_r2(logprc):\n",
        "  y,x = logprc,range(1,1+logprc.shape[0])\n",
        "  r2 = linregress(x,y)[2]**2\n",
        "  return r2\n",
        "def get_vol(logprc):\n",
        "  vol = logprc.diff().std()\n",
        "  return vol\n",
        "def get_rsi(logprc):\n",
        "  logret = logprc.diff()\n",
        "  gain = logret[logret>0].sum()\n",
        "  loss = logret[logret<0].sum()\n",
        "  rsi = 100 - 100/(1-gain/loss)\n",
        "  return rsi"
      ]
    },
    {
      "cell_type": "code",
      "execution_count": 11,
      "metadata": {
        "id": "U_hb39MkEd0C"
      },
      "outputs": [],
      "source": [
        "def get_feat(logprc,lookback):\n",
        "  slope_0 = logprc.rolling(lookback).apply(get_slope)\n",
        "  slope_1 = logprc.rolling(lookback//2).apply(get_slope)\n",
        "  slope_2 = logprc.rolling(lookback*2).apply(get_slope)\n",
        "  r2_0 = logprc.rolling(lookback).apply(get_r2)\n",
        "  r2_1 = logprc.rolling(lookback//2).apply(get_r2)\n",
        "  r2_2 = logprc.rolling(lookback*2).apply(get_r2)\n",
        "  ema_0 = logprc.ewm(lookback).mean() - logprc.ewm(lookback*4).mean()\n",
        "  ema_1 = logprc.ewm(lookback//2).mean() - logprc.ewm(lookback*4//2).mean()\n",
        "  ema_2 = logprc.ewm(lookback*2).mean() - logprc.ewm(lookback*4*2).mean()\n",
        "  vol_0 = logprc.rolling(lookback).apply(get_vol)\n",
        "  vol_1 = logprc.rolling(lookback//2).apply(get_vol)\n",
        "  vol_2 = logprc.rolling(lookback*2).apply(get_vol)\n",
        "  rsi_0 = logprc.rolling(lookback).apply(get_rsi)\n",
        "  rsi_1 = logprc.rolling(lookback//2).apply(get_rsi)\n",
        "  rsi_2 = logprc.rolling(lookback*2).apply(get_rsi)\n",
        "\n",
        "  feat = pd.DataFrame({'SLOPE_0':slope_0,\n",
        "                       'SLOPE_1':slope_1,\n",
        "                       'SLOPE_2':slope_2,\n",
        "                       'R2_0':r2_0,\n",
        "                       'R2_1':r2_1,\n",
        "                       'R2_2':r2_2,\n",
        "                       'SLOPE_R2_0':slope_0*r2_0,\n",
        "                       'SLOPE_R2_1':slope_1*r2_1,\n",
        "                       'SLOPE_R2_2':slope_2*r2_2,\n",
        "                       'EMA_0':ema_0,\n",
        "                       'EMA_1':ema_1,\n",
        "                       'EMA_2':ema_2,\n",
        "                       'VOL_0':vol_0,\n",
        "                       'VOL_1':vol_1,\n",
        "                       'VOL_2':vol_2,\n",
        "                       'RSI_0':rsi_0,\n",
        "                       'RSI_1':rsi_1,\n",
        "                       'RSI_2':rsi_2})\n",
        "  return feat"
      ]
    },
    {
      "cell_type": "markdown",
      "metadata": {
        "id": "RAyjjES1zn55"
      },
      "source": [
        "# Trend Detection Label"
      ]
    },
    {
      "cell_type": "code",
      "execution_count": 12,
      "metadata": {
        "id": "9soVUmaNSJKS"
      },
      "outputs": [],
      "source": [
        "def get_label(logprc,window=None,tp=None,sl=None,hd=None):\n",
        "  logret = logprc.diff().shift(-1)\n",
        "  vol = logret.rolling(60).std()\n",
        "\n",
        "  if tp is None or sl is None or hd is None:\n",
        "    tp = window ** 0.5\n",
        "    sl = window ** 0.5\n",
        "    hd = window\n",
        "\n",
        "  print(tp , sl , hd)\n",
        "  label = []\n",
        "\n",
        "  for i,ret in logret.items():\n",
        "    up_bar = vol.loc[i] * tp\n",
        "    low_bar = vol.loc[i] * -sl\n",
        "    horzn_bar = hd\n",
        "\n",
        "    future_ret = logret.loc[i:]\n",
        "    cum_ret = ret\n",
        "    cum_day = 1\n",
        "    while True:\n",
        "      if cum_ret >= up_bar:\n",
        "        label.append(1)\n",
        "        break\n",
        "      elif cum_ret <= low_bar:\n",
        "        label.append(-1)\n",
        "        break\n",
        "      elif cum_day >= horzn_bar or cum_day >= future_ret.shape[0]:\n",
        "        label.append(0)\n",
        "        break\n",
        "\n",
        "      ret = future_ret[cum_day]\n",
        "      cum_day += 1\n",
        "      cum_ret += ret\n",
        "\n",
        "  label = pd.Series(label , index=logret.index , name='LABEL')\n",
        "  return label"
      ]
    },
    {
      "cell_type": "code",
      "execution_count": 13,
      "metadata": {
        "colab": {
          "base_uri": "https://localhost:8080/"
        },
        "id": "mmjQMMKqF64l",
        "outputId": "26bda02f-1b1c-4503-d96d-30460763175b"
      },
      "outputs": [
        {
          "name": "stdout",
          "output_type": "stream",
          "text": [
            "2 2 20\n",
            "2 2 20\n",
            "2 2 20\n",
            "2 2 20\n",
            "2 2 20\n",
            "2 2 20\n"
          ]
        }
      ],
      "source": [
        "all_dataset = dict()\n",
        "for symbol in symbols:\n",
        "  data = all_data[symbol]\n",
        "  feat = get_feat(data,20)\n",
        "  label = get_label(data,tp=2,sl=2,hd=20)\n",
        "  dataset = pd.concat([label,feat],axis=1).dropna()\n",
        "  all_dataset[symbol] = dataset"
      ]
    },
    {
      "cell_type": "code",
      "execution_count": 14,
      "metadata": {
        "id": "MPBAatWMjxnw"
      },
      "outputs": [],
      "source": [
        "cum_ret = data.diff().shift(-1).cumsum()\n",
        "vol = data.diff().rolling(20).std()\n",
        "\n",
        "up_bar = 4.47 * vol\n",
        "low_bar = 4.47 * vol\n",
        "horzn_bar = 5"
      ]
    },
    {
      "cell_type": "code",
      "execution_count": 31,
      "metadata": {
        "colab": {
          "base_uri": "https://localhost:8080/",
          "height": 438
        },
        "id": "2FpgxJBxmJE7",
        "outputId": "3c34d6e9-5055-4d88-e492-773371d9a15c"
      },
      "outputs": [
        {
          "data": {
            "image/png": "[encoded data removed]",
            "text/plain": [
              "<Figure size 640x480 with 1 Axes>"
            ]
          },
          "metadata": {},
          "output_type": "display_data"
        }
      ],
      "source": [
        "from matplotlib.patches import Rectangle\n",
        "\n",
        "period = cum_ret.index[-1000:]\n",
        "dates = cum_ret.loc[period].index\n",
        "\n",
        "sub_label = label.loc[period][::horzn_bar]\n",
        "sub_cum_ret = cum_ret.loc[period]\n",
        "\n",
        "ax = sub_cum_ret.plot()\n",
        "\n",
        "for i,lab in enumerate(sub_label):\n",
        "  if i+2 >= len(sub_label): break\n",
        "\n",
        "  if lab == 1:\n",
        "    w = sub_label.index[i+2] - sub_label.index[i]\n",
        "    h = up_bar.loc[sub_label.index[i]]\n",
        "    x = sub_label.index[i]\n",
        "    y = sub_cum_ret[sub_label.index[i]]\n",
        "\n",
        "    rect = Rectangle((x,y),w,h,\n",
        "                     facecolor='g',alpha=0.5)\n",
        "    ax.add_patch(rect)\n",
        "  elif lab == -1:\n",
        "    w = sub_label.index[i+1] - sub_label.index[i]\n",
        "    h = up_bar.loc[sub_label.index[i]]\n",
        "    x = sub_label.index[i]\n",
        "    y = sub_cum_ret[sub_label.index[i]] - h\n",
        "\n",
        "    rect = Rectangle((x,y),w,h,\n",
        "                     facecolor='r',alpha=0.5)\n",
        "    ax.add_patch(rect)\n"
      ]
    },
    {
      "cell_type": "markdown",
      "metadata": {
        "id": "VUawKVHHzu4y"
      },
      "source": [
        "# Random Forest Prediction"
      ]
    },
    {
      "cell_type": "code",
      "execution_count": 15,
      "metadata": {
        "id": "GEzd6UqAO9sT"
      },
      "outputs": [],
      "source": [
        "from sklearn.ensemble import RandomForestClassifier\n",
        "from sklearn.linear_model import LinearRegression,ElasticNet"
      ]
    },
    {
      "cell_type": "code",
      "execution_count": 63,
      "metadata": {
        "colab": {
          "base_uri": "https://localhost:8080/"
        },
        "id": "FoU-iBXPPRj8",
        "outputId": "ffcba029-e9f4-42a5-e945-2d9141a2ec42"
      },
      "outputs": [
        {
          "name": "stdout",
          "output_type": "stream",
          "text": [
            "AUDUSD=X\n"
          ]
        }
      ],
      "source": [
        "train_size = 1000\n",
        "step = 20\n",
        "\n",
        "all_rf_pred = dict()\n",
        "all_rf_prob = dict()\n",
        "big_dataset = pd.concat(all_dataset.values(),axis=0)\n",
        "\n",
        "for symbol in symbols:\n",
        "  print(symbol)\n",
        "  rf_pred_list = []\n",
        "  rf_prob_list = []\n",
        "\n",
        "  dataset = all_dataset[symbol]\n",
        "  for start in range(train_size , len(dataset) , step):\n",
        "    train_set = dataset.iloc[start - train_size : start]\n",
        "    #train_set = dataset.iloc[ : start].loc[train_set.index]\n",
        "    #big_train_set = big_dataset.loc[train_set.index]\n",
        "    test_set = dataset.iloc[start : start + step]\n",
        "\n",
        "    #big_train_y , big_train_x = big_train_set['LABEL'] , big_train_set.drop(columns='LABEL')\n",
        "    train_y , train_x = train_set['LABEL'] , train_set.drop(columns='LABEL')\n",
        "    test_x = test_set.drop(columns='LABEL')\n",
        "\n",
        "    #print(f'[{test_x.index[0].date()}]' , end=' ')\n",
        "    #if start%100 == 0: print()\n",
        "    #sys.stdout.flush()\n",
        "\n",
        "    rf = RandomForestClassifier(random_state=300300,\n",
        "                                n_estimators=500,\n",
        "                                max_depth=3)\n",
        "    rf.fit(X=train_x , y=train_y)\n",
        "    #rf.fit(X=big_train_x , y=big_train_y)\n",
        "    rf_pred_list.append(pd.Series(rf.predict(X=test_x) , index=test_x.index))\n",
        "    rf_prob_list.append(pd.DataFrame(rf.predict_proba(X=test_x) , index=test_x.index))\n",
        "\n",
        "  rf_pred = pd.concat(rf_pred_list)\n",
        "  rf_prob = pd.concat(rf_prob_list)\n",
        "  all_rf_pred[symbol] = rf_pred\n",
        "  all_rf_prob[symbol] = rf_prob"
      ]
    },
    {
      "cell_type": "code",
      "execution_count": 19,
      "metadata": {},
      "outputs": [],
      "source": [
        "def get_pos(pred,prob):\n",
        "  l = np.where(pred == 1 , 1 * prob.iloc[:,2] , 0)\n",
        "  s = np.where(pred == -1 , -1 * prob.iloc[:,0] , 0)\n",
        "  pos = pd.Series(l + s , index=pred.index)\n",
        "  return pos"
      ]
    },
    {
      "cell_type": "code",
      "execution_count": 22,
      "metadata": {},
      "outputs": [],
      "source": [
        "def scale_vol(pnl):\n",
        "  vol = pnl.std()\n",
        "  scalar = .20 / 16 / vol\n",
        "  scaled_pnl = pnl * scalar\n",
        "  return scaled_pnl"
      ]
    },
    {
      "cell_type": "code",
      "execution_count": 21,
      "metadata": {},
      "outputs": [],
      "source": [
        "probpos = get_pos(all_rf_pred['AUDUSD=X'],all_rf_prob['AUDUSD=X'])"
      ]
    },
    {
      "cell_type": "code",
      "execution_count": null,
      "metadata": {},
      "outputs": [],
      "source": [
        "def get_pnl(pos,prob,logret,window=None,tp=None,sl=None,hd=None):\n",
        "  #logret = logprc.diff().shift(-1)\n",
        "  vol = logret.rolling(60).std()\n",
        "\n",
        "  if tp is None or sl is None or hd is None:\n",
        "    tp = window ** 0.5\n",
        "    sl = window ** 0.5\n",
        "    hd = window\n",
        "\n",
        "  print(tp , sl , hd)\n",
        "  pnl = []\n",
        "  in_pos = False\n",
        "  \n",
        "  for i,p in pos.items():\n",
        "    ret = logret.loc[i]\n",
        "    if not in_pos and p!=0 and prob.loc[i,p+1]>=0.5:\n",
        "      up_bar = vol.loc[i] * tp\n",
        "      low_bar = vol.loc[i] * -sl\n",
        "      horzn_bar = hd\n",
        "\n",
        "      cum_ret = p * ret\n",
        "      cum_day = 1\n",
        "      pnl.append(p * ret)\n",
        "    elif in_pos:\n",
        "      cum_ret += p * ret\n",
        "      cum_day += 1\n",
        "      pnl.append(p * ret)\n",
        "      \n",
        "      if cum_ret >= up_bar or cum_ret <= low_bar or cum_day >= horzn_bar or prob.loc[i,p+1]<0.5:\n",
        "        in_pos = False\n",
        "    else:\n",
        "      pnl.append(0)\n",
        "\n",
        "  pnl = pd.Series(pnl , index=pos.index , name='LABEL')\n",
        "  return pnl"
      ]
    },
    {
      "cell_type": "code",
      "execution_count": null,
      "metadata": {},
      "outputs": [
        {
          "data": {
            "text/plain": [
              "Date\n",
              "2010-05-18    1\n",
              "2010-05-19    1\n",
              "2010-05-20    1\n",
              "2010-05-21    1\n",
              "2010-05-24    1\n",
              "             ..\n",
              "2024-03-08    1\n",
              "2024-03-11    1\n",
              "2024-03-12    1\n",
              "2024-03-13    1\n",
              "2024-03-14    1\n",
              "Length: 3602, dtype: int64"
            ]
          },
          "execution_count": 55,
          "metadata": {},
          "output_type": "execute_result"
        }
      ],
      "source": [
        "all_rf_pred['AUDUSD=X'] "
      ]
    },
    {
      "cell_type": "code",
      "execution_count": 62,
      "metadata": {},
      "outputs": [
        {
          "name": "stdout",
          "output_type": "stream",
          "text": [
            "2 2 20\n"
          ]
        },
        {
          "data": {
            "text/plain": [
              "<Axes: xlabel='Date'>"
            ]
          },
          "execution_count": 62,
          "metadata": {},
          "output_type": "execute_result"
        },
        {
          "data": {
            "image/png": "[encoded data removed]",
            "text/plain": [
              "<Figure size 640x480 with 1 Axes>"
            ]
          },
          "metadata": {},
          "output_type": "display_data"
        }
      ],
      "source": [
        "logret = all_data['AUDUSD=X'].diff().shift(-1)\n",
        "pnl = get_pnl(all_rf_pred['AUDUSD=X'] , all_rf_prob['AUDUSD=X'] , logret , tp=2 , sl=2 , hd=20)\n",
        "prob_pnl = probpos.rolling(20).mean() * logret\n",
        "\n",
        "scale_vol(logret).cumsum().plot()\n",
        "scale_vol(pnl).cumsum().plot()\n",
        "scale_vol(prob_pnl).cumsum().plot()"
      ]
    },
    {
      "cell_type": "code",
      "execution_count": null,
      "metadata": {
        "id": "j8wfPGTUOhD6"
      },
      "outputs": [],
      "source": [
        "with open('all_rf_pred.pickle', 'wb') as handle:\n",
        "    pickle.dump(all_rf_pred, handle, protocol=pickle.HIGHEST_PROTOCOL)\n",
        "#!cp all_rf_pred.pickle \"drive/My Drive/\"\n",
        "\n",
        "with open('all_rf_prob.pickle', 'wb') as handle:\n",
        "    pickle.dump(all_rf_prob, handle, protocol=pickle.HIGHEST_PROTOCOL)\n",
        "#!cp all_rf_prob.pickle \"drive/My Drive/\""
      ]
    },
    {
      "cell_type": "code",
      "execution_count": null,
      "metadata": {
        "id": "Tc1onQWDPIIX"
      },
      "outputs": [],
      "source": [
        "with open('all_rf_pred.pickle', 'rb') as handle:\n",
        "    all_rf_pred = pickle.load(handle)\n",
        "\n",
        "with open('all_rf_prob.pickle', 'rb') as handle:\n",
        "    all_rf_prob = pickle.load(handle)"
      ]
    },
    {
      "cell_type": "code",
      "execution_count": null,
      "metadata": {
        "colab": {
          "base_uri": "https://localhost:8080/"
        },
        "id": "fpNzkxkfPQMa",
        "outputId": "74c245d6-1270-440d-a45f-db3584eab117"
      },
      "outputs": [
        {
          "data": {
            "text/plain": [
              "{}"
            ]
          },
          "execution_count": 110,
          "metadata": {},
          "output_type": "execute_result"
        }
      ],
      "source": [
        "all_rf_pred"
      ]
    },
    {
      "cell_type": "code",
      "execution_count": 25,
      "metadata": {
        "colab": {
          "base_uri": "https://localhost:8080/",
          "height": 505
        },
        "id": "TvEhaa9nHEY7",
        "outputId": "4154efe2-648d-487d-d3d5-6145754c8910"
      },
      "outputs": [
        {
          "name": "stdout",
          "output_type": "stream",
          "text": [
            "Elapsed time to compute the importances: 20.575 seconds\n"
          ]
        },
        {
          "data": {
            "image/png": "[encoded data removed]",
            "text/plain": [
              "<Figure size 640x480 with 1 Axes>"
            ]
          },
          "metadata": {},
          "output_type": "display_data"
        }
      ],
      "source": [
        "from sklearn.inspection import permutation_importance\n",
        "\n",
        "start_time = time.time()\n",
        "feature_names = test_x.columns\n",
        "result = permutation_importance(\n",
        "    rf, big_train_x, big_train_y, n_repeats=10, random_state=300300, n_jobs=2\n",
        ")\n",
        "elapsed_time = time.time() - start_time\n",
        "print(f\"Elapsed time to compute the importances: {elapsed_time:.3f} seconds\")\n",
        "\n",
        "forest_importances = pd.Series(result.importances_mean, index=feature_names).sort_values(ascending=False)\n",
        "\n",
        "fig, ax = plt.subplots()\n",
        "forest_importances.plot.bar(yerr=result.importances_std, ax=ax)\n",
        "ax.set_title(\"Feature importances using permutation on full model\")\n",
        "ax.set_ylabel(\"Mean accuracy decrease\")\n",
        "fig.tight_layout()\n",
        "plt.show()"
      ]
    },
    {
      "cell_type": "code",
      "execution_count": null,
      "metadata": {
        "id": "OvxdaAd1W7mM"
      },
      "outputs": [],
      "source": [
        "mac_pred = data.ewm(20).mean() - data.ewm(80).mean()"
      ]
    },
    {
      "cell_type": "code",
      "execution_count": null,
      "metadata": {
        "id": "MClqSO9nY0TG"
      },
      "outputs": [],
      "source": [
        "thr = 0.3\n",
        "mac_pos = pd.Series(np.where(mac_pred > 0 , 1 , -1) , index=mac_pred.index)\n",
        "rf_pos = rf_pred.copy().rolling(20).mean()"
      ]
    },
    {
      "cell_type": "code",
      "execution_count": null,
      "metadata": {
        "id": "GwpaJduKZfcJ"
      },
      "outputs": [],
      "source": [
        "logret = data.diff().shift(-1)\n",
        "\n",
        "mac_pnl = mac_pos * logret\n",
        "rf_pnl = rf_pos * logret"
      ]
    },
    {
      "cell_type": "code",
      "execution_count": null,
      "metadata": {
        "colab": {
          "base_uri": "https://localhost:8080/",
          "height": 440
        },
        "id": "JN8q-JjvZzqI",
        "outputId": "aea83380-a837-4591-d3af-cf941fba8335"
      },
      "outputs": [
        {
          "data": {
            "text/plain": [
              "<matplotlib.legend.Legend at 0x78e29c14fb50>"
            ]
          },
          "execution_count": 73,
          "metadata": {},
          "output_type": "execute_result"
        },
        {
          "data": {
            "image/png": "[encoded data removed]",
            "text/plain": [
              "<Figure size 640x480 with 1 Axes>"
            ]
          },
          "metadata": {},
          "output_type": "display_data"
        }
      ],
      "source": [
        "period = data.index[1000:]\n",
        "\n",
        "logret.loc[period].cumsum().plot()\n",
        "mac_pnl.loc[period].cumsum().plot()\n",
        "(rf_pnl.loc[period]*7).cumsum().plot()\n",
        "\n",
        "plt.legend(['logret','mac','rf'])"
      ]
    },
    {
      "cell_type": "code",
      "execution_count": null,
      "metadata": {
        "colab": {
          "base_uri": "https://localhost:8080/",
          "height": 601
        },
        "id": "aeThg1QaaNGq",
        "outputId": "be9f7255-ed1e-43a3-a4d0-e40a48d7afb8"
      },
      "outputs": [
        {
          "name": "stdout",
          "output_type": "stream",
          "text": [
            "nan 0.03215926493108729\n"
          ]
        },
        {
          "data": {
            "application/vnd.google.colaboratory.intrinsic+json": {
              "summary": "{\n  \"name\": \"e\",\n  \"rows\": 17,\n  \"fields\": [\n    {\n      \"column\": \"Value\",\n      \"properties\": {\n        \"dtype\": \"number\",\n        \"std\": 9.762642804556906,\n        \"min\": -3.7846261384445783,\n        \"max\": 38.40760132162029,\n        \"num_unique_values\": 16,\n        \"samples\": [\n          0.06624329648859471,\n          0.21447040366793071,\n          -0.1305841546217538\n        ],\n        \"semantic_type\": \"\",\n        \"description\": \"\"\n      }\n    },\n    {\n      \"column\": \"Sample size\",\n      \"properties\": {\n        \"dtype\": \"number\",\n        \"std\": 3446.482828871469,\n        \"min\": 1.0,\n        \"max\": 7836.0,\n        \"num_unique_values\": 8,\n        \"samples\": [\n          2419.0,\n          1336.0,\n          7836.0\n        ],\n        \"semantic_type\": \"\",\n        \"description\": \"\"\n      }\n    },\n    {\n      \"column\": \"P-value\",\n      \"properties\": {\n        \"dtype\": \"number\",\n        \"std\": 0.06672721052503124,\n        \"min\": 0.0,\n        \"max\": 0.12612335963521995,\n        \"num_unique_values\": 4,\n        \"samples\": [\n          0.12612335963521995,\n          0.013594524985797355,\n          0.0\n        ],\n        \"semantic_type\": \"\",\n        \"description\": \"\"\n      }\n    }\n  ]\n}",
              "type": "dataframe"
            },
            "text/html": [
              "\n",
              "  <div id=\"df-fa931e87-dbf3-4aef-874a-21874a370743\" class=\"colab-df-container\">\n",
              "    <div>\n",
              "<style scoped>\n",
              "    .dataframe tbody tr th:only-of-type {\n",
              "        vertical-align: middle;\n",
              "    }\n",
              "\n",
              "    .dataframe tbody tr th {\n",
              "        vertical-align: top;\n",
              "    }\n",
              "\n",
              "    .dataframe thead th {\n",
              "        text-align: right;\n",
              "    }\n",
              "</style>\n",
              "<table border=\"1\" class=\"dataframe\">\n",
              "  <thead>\n",
              "    <tr style=\"text-align: right;\">\n",
              "      <th></th>\n",
              "      <th>Value</th>\n",
              "      <th>Sample size</th>\n",
              "      <th>P-value</th>\n",
              "    </tr>\n",
              "  </thead>\n",
              "  <tbody>\n",
              "    <tr>\n",
              "      <th>CAGR</th>\n",
              "      <td>NaN</td>\n",
              "      <td>7836.0000</td>\n",
              "      <td>NaN</td>\n",
              "    </tr>\n",
              "    <tr>\n",
              "      <th>Mean</th>\n",
              "      <td>0.0662</td>\n",
              "      <td>7836.0000</td>\n",
              "      <td>NaN</td>\n",
              "    </tr>\n",
              "    <tr>\n",
              "      <th>Vol</th>\n",
              "      <td>0.2145</td>\n",
              "      <td>7836.0000</td>\n",
              "      <td>NaN</td>\n",
              "    </tr>\n",
              "    <tr>\n",
              "      <th>SR</th>\n",
              "      <td>0.3089</td>\n",
              "      <td>7836.0000</td>\n",
              "      <td>0.0000</td>\n",
              "    </tr>\n",
              "    <tr>\n",
              "      <th>CAPM Alpha</th>\n",
              "      <td>0.1774</td>\n",
              "      <td>2419.0000</td>\n",
              "      <td>0.1261</td>\n",
              "    </tr>\n",
              "    <tr>\n",
              "      <th>Carhart Alpha</th>\n",
              "      <td>0.1825</td>\n",
              "      <td>2419.0000</td>\n",
              "      <td>0.1175</td>\n",
              "    </tr>\n",
              "    <tr>\n",
              "      <th>Beta</th>\n",
              "      <td>-0.1306</td>\n",
              "      <td>2419.0000</td>\n",
              "      <td>0.0136</td>\n",
              "    </tr>\n",
              "    <tr>\n",
              "      <th>Skew</th>\n",
              "      <td>-1.9325</td>\n",
              "      <td>7836.0000</td>\n",
              "      <td>NaN</td>\n",
              "    </tr>\n",
              "    <tr>\n",
              "      <th>Skew (M)</th>\n",
              "      <td>-0.3640</td>\n",
              "      <td>375.0000</td>\n",
              "      <td>NaN</td>\n",
              "    </tr>\n",
              "    <tr>\n",
              "      <th>Kurt</th>\n",
              "      <td>38.4076</td>\n",
              "      <td>7836.0000</td>\n",
              "      <td>NaN</td>\n",
              "    </tr>\n",
              "    <tr>\n",
              "      <th>Avg Drawdown</th>\n",
              "      <td>-0.9196</td>\n",
              "      <td>6517.0000</td>\n",
              "      <td>NaN</td>\n",
              "    </tr>\n",
              "    <tr>\n",
              "      <th>Max Drawdown</th>\n",
              "      <td>-3.7846</td>\n",
              "      <td>1.0000</td>\n",
              "      <td>NaN</td>\n",
              "    </tr>\n",
              "    <tr>\n",
              "      <th>Downside Risk</th>\n",
              "      <td>0.1434</td>\n",
              "      <td>1336.0000</td>\n",
              "      <td>NaN</td>\n",
              "    </tr>\n",
              "    <tr>\n",
              "      <th>VaR 95%</th>\n",
              "      <td>-0.0131</td>\n",
              "      <td>7836.0000</td>\n",
              "      <td>NaN</td>\n",
              "    </tr>\n",
              "    <tr>\n",
              "      <th>Exp Shortfall 95%</th>\n",
              "      <td>-0.0346</td>\n",
              "      <td>340.0000</td>\n",
              "      <td>NaN</td>\n",
              "    </tr>\n",
              "    <tr>\n",
              "      <th>VaR 99%</th>\n",
              "      <td>-0.0441</td>\n",
              "      <td>7836.0000</td>\n",
              "      <td>NaN</td>\n",
              "    </tr>\n",
              "    <tr>\n",
              "      <th>Exp Shortfall 99%</th>\n",
              "      <td>-0.0781</td>\n",
              "      <td>68.0000</td>\n",
              "      <td>NaN</td>\n",
              "    </tr>\n",
              "  </tbody>\n",
              "</table>\n",
              "</div>\n",
              "    <div class=\"colab-df-buttons\">\n",
              "\n",
              "  <div class=\"colab-df-container\">\n",
              "    <button class=\"colab-df-convert\" onclick=\"convertToInteractive('df-fa931e87-dbf3-4aef-874a-21874a370743')\"\n",
              "            title=\"Convert this dataframe to an interactive table.\"\n",
              "            style=\"display:none;\">\n",
              "\n",
              "  <svg xmlns=\"http://www.w3.org/2000/svg\" height=\"24px\" viewBox=\"0 -960 960 960\">\n",
              "    <path d=\"M120-120v-720h720v720H120Zm60-500h600v-160H180v160Zm220 220h160v-160H400v160Zm0 220h160v-160H400v160ZM180-400h160v-160H180v160Zm440 0h160v-160H620v160ZM180-180h160v-160H180v160Zm440 0h160v-160H620v160Z\"/>\n",
              "  </svg>\n",
              "    </button>\n",
              "\n",
              "  <style>\n",
              "    .colab-df-container {\n",
              "      display:flex;\n",
              "      gap: 12px;\n",
              "    }\n",
              "\n",
              "    .colab-df-convert {\n",
              "      background-color: #E8F0FE;\n",
              "      border: none;\n",
              "      border-radius: 50%;\n",
              "      cursor: pointer;\n",
              "      display: none;\n",
              "      fill: #1967D2;\n",
              "      height: 32px;\n",
              "      padding: 0 0 0 0;\n",
              "      width: 32px;\n",
              "    }\n",
              "\n",
              "    .colab-df-convert:hover {\n",
              "      background-color: #E2EBFA;\n",
              "      box-shadow: 0px 1px 2px rgba(60, 64, 67, 0.3), 0px 1px 3px 1px rgba(60, 64, 67, 0.15);\n",
              "      fill: #174EA6;\n",
              "    }\n",
              "\n",
              "    .colab-df-buttons div {\n",
              "      margin-bottom: 4px;\n",
              "    }\n",
              "\n",
              "    [theme=dark] .colab-df-convert {\n",
              "      background-color: #3B4455;\n",
              "      fill: #D2E3FC;\n",
              "    }\n",
              "\n",
              "    [theme=dark] .colab-df-convert:hover {\n",
              "      background-color: #434B5C;\n",
              "      box-shadow: 0px 1px 3px 1px rgba(0, 0, 0, 0.15);\n",
              "      filter: drop-shadow(0px 1px 2px rgba(0, 0, 0, 0.3));\n",
              "      fill: #FFFFFF;\n",
              "    }\n",
              "  </style>\n",
              "\n",
              "    <script>\n",
              "      const buttonEl =\n",
              "        document.querySelector('#df-fa931e87-dbf3-4aef-874a-21874a370743 button.colab-df-convert');\n",
              "      buttonEl.style.display =\n",
              "        google.colab.kernel.accessAllowed ? 'block' : 'none';\n",
              "\n",
              "      async function convertToInteractive(key) {\n",
              "        const element = document.querySelector('#df-fa931e87-dbf3-4aef-874a-21874a370743');\n",
              "        const dataTable =\n",
              "          await google.colab.kernel.invokeFunction('convertToInteractive',\n",
              "                                                    [key], {});\n",
              "        if (!dataTable) return;\n",
              "\n",
              "        const docLinkHtml = 'Like what you see? Visit the ' +\n",
              "          '<a target=\"_blank\" href=https://colab.research.google.com/notebooks/data_table.ipynb>data table notebook</a>'\n",
              "          + ' to learn more about interactive tables.';\n",
              "        element.innerHTML = '';\n",
              "        dataTable['output_type'] = 'display_data';\n",
              "        await google.colab.output.renderOutput(dataTable, element);\n",
              "        const docLink = document.createElement('div');\n",
              "        docLink.innerHTML = docLinkHtml;\n",
              "        element.appendChild(docLink);\n",
              "      }\n",
              "    </script>\n",
              "  </div>\n",
              "\n",
              "\n",
              "<div id=\"df-6c3de8fd-fb55-4358-a39c-8c725a0aae53\">\n",
              "  <button class=\"colab-df-quickchart\" onclick=\"quickchart('df-6c3de8fd-fb55-4358-a39c-8c725a0aae53')\"\n",
              "            title=\"Suggest charts\"\n",
              "            style=\"display:none;\">\n",
              "\n",
              "<svg xmlns=\"http://www.w3.org/2000/svg\" height=\"24px\"viewBox=\"0 0 24 24\"\n",
              "     width=\"24px\">\n",
              "    <g>\n",
              "        <path d=\"M19 3H5c-1.1 0-2 .9-2 2v14c0 1.1.9 2 2 2h14c1.1 0 2-.9 2-2V5c0-1.1-.9-2-2-2zM9 17H7v-7h2v7zm4 0h-2V7h2v10zm4 0h-2v-4h2v4z\"/>\n",
              "    </g>\n",
              "</svg>\n",
              "  </button>\n",
              "\n",
              "<style>\n",
              "  .colab-df-quickchart {\n",
              "      --bg-color: #E8F0FE;\n",
              "      --fill-color: #1967D2;\n",
              "      --hover-bg-color: #E2EBFA;\n",
              "      --hover-fill-color: #174EA6;\n",
              "      --disabled-fill-color: #AAA;\n",
              "      --disabled-bg-color: #DDD;\n",
              "  }\n",
              "\n",
              "  [theme=dark] .colab-df-quickchart {\n",
              "      --bg-color: #3B4455;\n",
              "      --fill-color: #D2E3FC;\n",
              "      --hover-bg-color: #434B5C;\n",
              "      --hover-fill-color: #FFFFFF;\n",
              "      --disabled-bg-color: #3B4455;\n",
              "      --disabled-fill-color: #666;\n",
              "  }\n",
              "\n",
              "  .colab-df-quickchart {\n",
              "    background-color: var(--bg-color);\n",
              "    border: none;\n",
              "    border-radius: 50%;\n",
              "    cursor: pointer;\n",
              "    display: none;\n",
              "    fill: var(--fill-color);\n",
              "    height: 32px;\n",
              "    padding: 0;\n",
              "    width: 32px;\n",
              "  }\n",
              "\n",
              "  .colab-df-quickchart:hover {\n",
              "    background-color: var(--hover-bg-color);\n",
              "    box-shadow: 0 1px 2px rgba(60, 64, 67, 0.3), 0 1px 3px 1px rgba(60, 64, 67, 0.15);\n",
              "    fill: var(--button-hover-fill-color);\n",
              "  }\n",
              "\n",
              "  .colab-df-quickchart-complete:disabled,\n",
              "  .colab-df-quickchart-complete:disabled:hover {\n",
              "    background-color: var(--disabled-bg-color);\n",
              "    fill: var(--disabled-fill-color);\n",
              "    box-shadow: none;\n",
              "  }\n",
              "\n",
              "  .colab-df-spinner {\n",
              "    border: 2px solid var(--fill-color);\n",
              "    border-color: transparent;\n",
              "    border-bottom-color: var(--fill-color);\n",
              "    animation:\n",
              "      spin 1s steps(1) infinite;\n",
              "  }\n",
              "\n",
              "  @keyframes spin {\n",
              "    0% {\n",
              "      border-color: transparent;\n",
              "      border-bottom-color: var(--fill-color);\n",
              "      border-left-color: var(--fill-color);\n",
              "    }\n",
              "    20% {\n",
              "      border-color: transparent;\n",
              "      border-left-color: var(--fill-color);\n",
              "      border-top-color: var(--fill-color);\n",
              "    }\n",
              "    30% {\n",
              "      border-color: transparent;\n",
              "      border-left-color: var(--fill-color);\n",
              "      border-top-color: var(--fill-color);\n",
              "      border-right-color: var(--fill-color);\n",
              "    }\n",
              "    40% {\n",
              "      border-color: transparent;\n",
              "      border-right-color: var(--fill-color);\n",
              "      border-top-color: var(--fill-color);\n",
              "    }\n",
              "    60% {\n",
              "      border-color: transparent;\n",
              "      border-right-color: var(--fill-color);\n",
              "    }\n",
              "    80% {\n",
              "      border-color: transparent;\n",
              "      border-right-color: var(--fill-color);\n",
              "      border-bottom-color: var(--fill-color);\n",
              "    }\n",
              "    90% {\n",
              "      border-color: transparent;\n",
              "      border-bottom-color: var(--fill-color);\n",
              "    }\n",
              "  }\n",
              "</style>\n",
              "\n",
              "  <script>\n",
              "    async function quickchart(key) {\n",
              "      const quickchartButtonEl =\n",
              "        document.querySelector('#' + key + ' button');\n",
              "      quickchartButtonEl.disabled = true;  // To prevent multiple clicks.\n",
              "      quickchartButtonEl.classList.add('colab-df-spinner');\n",
              "      try {\n",
              "        const charts = await google.colab.kernel.invokeFunction(\n",
              "            'suggestCharts', [key], {});\n",
              "      } catch (error) {\n",
              "        console.error('Error during call to suggestCharts:', error);\n",
              "      }\n",
              "      quickchartButtonEl.classList.remove('colab-df-spinner');\n",
              "      quickchartButtonEl.classList.add('colab-df-quickchart-complete');\n",
              "    }\n",
              "    (() => {\n",
              "      let quickchartButtonEl =\n",
              "        document.querySelector('#df-6c3de8fd-fb55-4358-a39c-8c725a0aae53 button');\n",
              "      quickchartButtonEl.style.display =\n",
              "        google.colab.kernel.accessAllowed ? 'block' : 'none';\n",
              "    })();\n",
              "  </script>\n",
              "</div>\n",
              "    </div>\n",
              "  </div>\n"
            ],
            "text/plain": [
              "                    Value  Sample size  P-value\n",
              "CAGR                  NaN    7836.0000      NaN\n",
              "Mean               0.0662    7836.0000      NaN\n",
              "Vol                0.2145    7836.0000      NaN\n",
              "SR                 0.3089    7836.0000   0.0000\n",
              "CAPM Alpha         0.1774    2419.0000   0.1261\n",
              "Carhart Alpha      0.1825    2419.0000   0.1175\n",
              "Beta              -0.1306    2419.0000   0.0136\n",
              "Skew              -1.9325    7836.0000      NaN\n",
              "Skew (M)          -0.3640     375.0000      NaN\n",
              "Kurt              38.4076    7836.0000      NaN\n",
              "Avg Drawdown      -0.9196    6517.0000      NaN\n",
              "Max Drawdown      -3.7846       1.0000      NaN\n",
              "Downside Risk      0.1434    1336.0000      NaN\n",
              "VaR 95%           -0.0131    7836.0000      NaN\n",
              "Exp Shortfall 95% -0.0346     340.0000      NaN\n",
              "VaR 99%           -0.0441    7836.0000      NaN\n",
              "Exp Shortfall 99% -0.0781      68.0000      NaN"
            ]
          },
          "execution_count": 79,
          "metadata": {},
          "output_type": "execute_result"
        }
      ],
      "source": [
        "e = Evaluator(rf_pnl*7)\n",
        "e.get_summary()"
      ]
    }
  ],
  "metadata": {
    "colab": {
      "provenance": []
    },
    "kernelspec": {
      "display_name": "Python 3",
      "name": "python3"
    },
    "language_info": {
      "codemirror_mode": {
        "name": "ipython",
        "version": 3
      },
      "file_extension": ".py",
      "mimetype": "text/x-python",
      "name": "python",
      "nbconvert_exporter": "python",
      "pygments_lexer": "ipython3",
      "version": "3.10.9"
    }
  },
  "nbformat": 4,
  "nbformat_minor": 0
}

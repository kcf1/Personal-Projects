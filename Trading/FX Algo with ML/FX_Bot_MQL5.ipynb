{
 "cells": [
  {
   "cell_type": "code",
   "execution_count": 3,
   "metadata": {},
   "outputs": [],
   "source": [
    "import pandas as pd\n",
    "import numpy as np\n",
    "import yfinance as yf\n",
    "from datetime import datetime as dt\n",
    "from sklearn.neighbors import KNeighborsClassifier\n",
    "import pickle\n",
    "\n",
    "from ta.trend import MACD\n",
    "from ta.momentum import RSIIndicator\n",
    "from ta.momentum import StochasticOscillator\n",
    "from ta.volatility import BollingerBands\n",
    "from ta.volume import AccDistIndexIndicator\n",
    "from ta.volatility import AverageTrueRange"
   ]
  },
  {
   "cell_type": "code",
   "execution_count": 116,
   "metadata": {},
   "outputs": [
    {
     "name": "stdout",
     "output_type": "stream",
     "text": [
      "[*********************100%***********************]  1 of 1 completed\n",
      "[*********************100%***********************]  1 of 1 completed\n",
      "[*********************100%***********************]  1 of 1 completed\n",
      "[*********************100%***********************]  1 of 1 completed\n",
      "[*********************100%***********************]  1 of 1 completed\n",
      "[*********************100%***********************]  1 of 1 completed\n",
      "[*********************100%***********************]  1 of 1 completed\n"
     ]
    }
   ],
   "source": [
    "symbols = ['EURUSD=X','USDJPY=X','GBPUSD=X','USDCHF=X','AUDUSD=X','USDCAD=X','NZDUSD=X']\n",
    "\n",
    "data = dict()\n",
    "for symbol in symbols:\n",
    "    data[symbol] = yf.download(symbol,interval='1d')"
   ]
  },
  {
   "cell_type": "code",
   "execution_count": 117,
   "metadata": {},
   "outputs": [],
   "source": [
    "def add_ta_signals(df):\n",
    "    df = df.copy()\n",
    "\n",
    "    o,h,l,c,v = df['Open'],df['High'],df['Low'],df['Close'],df['Volume']\n",
    "    \n",
    "    df['Ret'] = np.log(c).diff().shift(-1)\n",
    "\n",
    "    df['MACDD'] = MACD(c).macd_diff()\n",
    "    df['MACDS'] = MACD(c).macd_signal()\n",
    "\n",
    "    df['RSI'] = RSIIndicator(c).rsi()\n",
    "\n",
    "    df['SO'] = StochasticOscillator(h,l,c).stoch()\n",
    "    df['SOS'] = StochasticOscillator(h,l,c).stoch_signal()\n",
    "\n",
    "    df['BBH'] = BollingerBands(c).bollinger_hband_indicator() - c\n",
    "    df['BBL'] = BollingerBands(c).bollinger_lband_indicator() - c\n",
    "\n",
    "    df['ADI'] = AccDistIndexIndicator(h,l,c,v).acc_dist_index()\n",
    "\n",
    "    df['HLR'] = c / (h.rolling(252).max() - l.rolling(252).min()) - 1 / 2\n",
    "\n",
    "    df['ATR'] = AverageTrueRange(h,l,c).average_true_range()\n",
    "\n",
    "    df = df.drop(columns=['Open','High','Low','Close','Adj Close','Volume'])\n",
    "    #df.iloc[:,1:-1] = df.iloc[:,1:-1].div(df.loc[:,'ATR'],axis=0)\n",
    "    return df"
   ]
  },
  {
   "cell_type": "code",
   "execution_count": 164,
   "metadata": {},
   "outputs": [],
   "source": [
    "train_data = dict()\n",
    "ta_features = dict()\n",
    "for symbol in symbols:\n",
    "    ta_data = add_ta_signals(data[symbol])\n",
    "    train_data[symbol] = ta_data.dropna()\n",
    "    ta_features[symbol] = ta_data.iloc[-10:]"
   ]
  },
  {
   "cell_type": "code",
   "execution_count": 165,
   "metadata": {},
   "outputs": [],
   "source": [
    "concat_train_data = pd.concat(train_data.values())"
   ]
  },
  {
   "cell_type": "code",
   "execution_count": 166,
   "metadata": {},
   "outputs": [],
   "source": [
    "from sklearn.neighbors import KNeighborsClassifier\n",
    "\n",
    "knns = [KNeighborsClassifier(n_neighbors=10) for _ in range(100)]\n",
    "for i,knn in enumerate(knns):\n",
    "        bootstrap_train_data = concat_train_data.sample(frac=0.3,replace=True)\n",
    "        knn.fit(X=bootstrap_train_data.iloc[:,1:],\n",
    "                y=np.sign(bootstrap_train_data.iloc[:,0]))"
   ]
  },
  {
   "cell_type": "code",
   "execution_count": 167,
   "metadata": {},
   "outputs": [],
   "source": [
    "# save\n",
    "for i in range(100):\n",
    "    with open(f'models/knn_{i}.pkl','wb') as f:\n",
    "        pickle.dump(knns[i],f)"
   ]
  },
  {
   "cell_type": "code",
   "execution_count": 168,
   "metadata": {},
   "outputs": [],
   "source": [
    "# load\n",
    "knns = list()\n",
    "for i in range(100):\n",
    "    with open(f'models/knn_{i}.pkl', 'rb') as f:\n",
    "        knn = pickle.load(f)\n",
    "        knns.append(knn)"
   ]
  },
  {
   "cell_type": "code",
   "execution_count": 169,
   "metadata": {},
   "outputs": [
    {
     "name": "stderr",
     "output_type": "stream",
     "text": [
      "C:\\Users\\benka\\AppData\\Local\\Temp\\ipykernel_18880\\659874341.py:6: SettingWithCopyWarning: \n",
      "A value is trying to be set on a copy of a slice from a DataFrame.\n",
      "Try using .loc[row_indexer,col_indexer] = value instead\n",
      "\n",
      "See the caveats in the documentation: https://pandas.pydata.org/pandas-docs/stable/user_guide/indexing.html#returning-a-view-versus-a-copy\n",
      "  features['Pred'] = pos.mean(axis=1).to_numpy()\n",
      "C:\\Users\\benka\\AppData\\Local\\Temp\\ipykernel_18880\\659874341.py:7: SettingWithCopyWarning: \n",
      "A value is trying to be set on a copy of a slice from a DataFrame.\n",
      "Try using .loc[row_indexer,col_indexer] = value instead\n",
      "\n",
      "See the caveats in the documentation: https://pandas.pydata.org/pandas-docs/stable/user_guide/indexing.html#returning-a-view-versus-a-copy\n",
      "  features['Pos'] = (np.around((features['Pred'].expanding().rank(pct=True)*2-1)*5))/5\n"
     ]
    }
   ],
   "source": [
    "for symbol in symbols:\n",
    "    features = ta_features[symbol]\n",
    "    pos = pd.DataFrame()\n",
    "    for i,knn in enumerate(knns):\n",
    "        pos[f'{i}'] = knn.predict(features.iloc[:,1:])\n",
    "    features['Pred'] = pos.mean(axis=1).to_numpy()\n",
    "    features['Pos'] = (np.around((features['Pred'].expanding().rank(pct=True)*2-1)*5))/5"
   ]
  },
  {
   "cell_type": "code",
   "execution_count": 173,
   "metadata": {},
   "outputs": [
    {
     "name": "stdout",
     "output_type": "stream",
     "text": [
      "[*********************100%***********************]  3 of 3 completed\n"
     ]
    }
   ],
   "source": [
    "to_usd = {  'USDJPY=X': 'JPYUSD=X',\n",
    "            'USDCHF=X': 'CHFUSD=X',\n",
    "            'USDCAD=X': 'CADUSD=X'}\n",
    "prc_to_usd = yf.download(list(to_usd.values()))['Close']"
   ]
  },
  {
   "cell_type": "code",
   "execution_count": 175,
   "metadata": {},
   "outputs": [
    {
     "data": {
      "text/html": [
       "<div>\n",
       "<style scoped>\n",
       "    .dataframe tbody tr th:only-of-type {\n",
       "        vertical-align: middle;\n",
       "    }\n",
       "\n",
       "    .dataframe tbody tr th {\n",
       "        vertical-align: top;\n",
       "    }\n",
       "\n",
       "    .dataframe thead th {\n",
       "        text-align: right;\n",
       "    }\n",
       "</style>\n",
       "<table border=\"1\" class=\"dataframe\">\n",
       "  <thead>\n",
       "    <tr style=\"text-align: right;\">\n",
       "      <th></th>\n",
       "      <th>EURUSD=X</th>\n",
       "      <th>USDJPY=X</th>\n",
       "      <th>GBPUSD=X</th>\n",
       "      <th>USDCHF=X</th>\n",
       "      <th>AUDUSD=X</th>\n",
       "      <th>USDCAD=X</th>\n",
       "      <th>NZDUSD=X</th>\n",
       "    </tr>\n",
       "    <tr>\n",
       "      <th>Date</th>\n",
       "      <th></th>\n",
       "      <th></th>\n",
       "      <th></th>\n",
       "      <th></th>\n",
       "      <th></th>\n",
       "      <th></th>\n",
       "      <th></th>\n",
       "    </tr>\n",
       "  </thead>\n",
       "  <tbody>\n",
       "    <tr>\n",
       "      <th>2024-01-23</th>\n",
       "      <td>0.714286</td>\n",
       "      <td>-63.630424</td>\n",
       "      <td>-0.428571</td>\n",
       "      <td>-0.373307</td>\n",
       "      <td>-0.142857</td>\n",
       "      <td>-0.385149</td>\n",
       "      <td>0.714286</td>\n",
       "    </tr>\n",
       "    <tr>\n",
       "      <th>2024-01-22</th>\n",
       "      <td>-0.571429</td>\n",
       "      <td>-63.630424</td>\n",
       "      <td>0.428571</td>\n",
       "      <td>-0.124436</td>\n",
       "      <td>-0.142857</td>\n",
       "      <td>0.192574</td>\n",
       "      <td>-0.285714</td>\n",
       "    </tr>\n",
       "    <tr>\n",
       "      <th>2024-01-19</th>\n",
       "      <td>0.571429</td>\n",
       "      <td>-42.420283</td>\n",
       "      <td>0.000000</td>\n",
       "      <td>-0.248871</td>\n",
       "      <td>-0.142857</td>\n",
       "      <td>-0.192574</td>\n",
       "      <td>-0.142857</td>\n",
       "    </tr>\n",
       "    <tr>\n",
       "      <th>2024-01-18</th>\n",
       "      <td>-0.285714</td>\n",
       "      <td>-84.840565</td>\n",
       "      <td>0.571429</td>\n",
       "      <td>0.248871</td>\n",
       "      <td>0.571429</td>\n",
       "      <td>-0.192574</td>\n",
       "      <td>0.571429</td>\n",
       "    </tr>\n",
       "    <tr>\n",
       "      <th>2024-01-17</th>\n",
       "      <td>0.285714</td>\n",
       "      <td>-42.420283</td>\n",
       "      <td>0.285714</td>\n",
       "      <td>0.622179</td>\n",
       "      <td>-0.428571</td>\n",
       "      <td>0.000000</td>\n",
       "      <td>-0.285714</td>\n",
       "    </tr>\n",
       "    <tr>\n",
       "      <th>2024-01-16</th>\n",
       "      <td>0.142857</td>\n",
       "      <td>-63.630424</td>\n",
       "      <td>0.428571</td>\n",
       "      <td>0.373307</td>\n",
       "      <td>-0.428571</td>\n",
       "      <td>0.962871</td>\n",
       "      <td>-0.428571</td>\n",
       "    </tr>\n",
       "    <tr>\n",
       "      <th>2024-01-15</th>\n",
       "      <td>0.000000</td>\n",
       "      <td>0.000000</td>\n",
       "      <td>0.714286</td>\n",
       "      <td>0.248871</td>\n",
       "      <td>-0.285714</td>\n",
       "      <td>0.000000</td>\n",
       "      <td>-0.285714</td>\n",
       "    </tr>\n",
       "    <tr>\n",
       "      <th>2024-01-12</th>\n",
       "      <td>0.285714</td>\n",
       "      <td>-42.420283</td>\n",
       "      <td>0.714286</td>\n",
       "      <td>0.622179</td>\n",
       "      <td>-0.285714</td>\n",
       "      <td>0.385149</td>\n",
       "      <td>-0.285714</td>\n",
       "    </tr>\n",
       "    <tr>\n",
       "      <th>2024-01-11</th>\n",
       "      <td>0.000000</td>\n",
       "      <td>42.420283</td>\n",
       "      <td>0.000000</td>\n",
       "      <td>0.000000</td>\n",
       "      <td>0.000000</td>\n",
       "      <td>0.962871</td>\n",
       "      <td>0.714286</td>\n",
       "    </tr>\n",
       "    <tr>\n",
       "      <th>2024-01-10</th>\n",
       "      <td>0.714286</td>\n",
       "      <td>106.050707</td>\n",
       "      <td>0.714286</td>\n",
       "      <td>0.622179</td>\n",
       "      <td>0.714286</td>\n",
       "      <td>0.962871</td>\n",
       "      <td>0.714286</td>\n",
       "    </tr>\n",
       "  </tbody>\n",
       "</table>\n",
       "</div>"
      ],
      "text/plain": [
       "            EURUSD=X    USDJPY=X  GBPUSD=X  USDCHF=X  AUDUSD=X  USDCAD=X  \\\n",
       "Date                                                                       \n",
       "2024-01-23  0.714286  -63.630424 -0.428571 -0.373307 -0.142857 -0.385149   \n",
       "2024-01-22 -0.571429  -63.630424  0.428571 -0.124436 -0.142857  0.192574   \n",
       "2024-01-19  0.571429  -42.420283  0.000000 -0.248871 -0.142857 -0.192574   \n",
       "2024-01-18 -0.285714  -84.840565  0.571429  0.248871  0.571429 -0.192574   \n",
       "2024-01-17  0.285714  -42.420283  0.285714  0.622179 -0.428571  0.000000   \n",
       "2024-01-16  0.142857  -63.630424  0.428571  0.373307 -0.428571  0.962871   \n",
       "2024-01-15  0.000000    0.000000  0.714286  0.248871 -0.285714  0.000000   \n",
       "2024-01-12  0.285714  -42.420283  0.714286  0.622179 -0.285714  0.385149   \n",
       "2024-01-11  0.000000   42.420283  0.000000  0.000000  0.000000  0.962871   \n",
       "2024-01-10  0.714286  106.050707  0.714286  0.622179  0.714286  0.962871   \n",
       "\n",
       "            NZDUSD=X  \n",
       "Date                  \n",
       "2024-01-23  0.714286  \n",
       "2024-01-22 -0.285714  \n",
       "2024-01-19 -0.142857  \n",
       "2024-01-18  0.571429  \n",
       "2024-01-17 -0.285714  \n",
       "2024-01-16 -0.428571  \n",
       "2024-01-15 -0.285714  \n",
       "2024-01-12 -0.285714  \n",
       "2024-01-11  0.714286  \n",
       "2024-01-10  0.714286  "
      ]
     },
     "execution_count": 175,
     "metadata": {},
     "output_type": "execute_result"
    }
   ],
   "source": [
    "leverage = 10\n",
    "acc_size = 50000\n",
    "lot_size = 100000\n",
    "\n",
    "position = pd.DataFrame()\n",
    "for symbol in symbols:\n",
    "    capital_usd = leverage * acc_size / len(symbols)\n",
    "    \n",
    "    if symbol in to_usd.keys():\n",
    "        capital = capital_usd / prc_to_usd[to_usd[symbol]].iloc[-1]\n",
    "    else:\n",
    "        capital = capital_usd\n",
    "    \n",
    "    pos_value = ta_features[symbol]['Pos'] * capital\n",
    "\n",
    "    position[symbol] = pos_value / lot_size\n",
    "position[::-1]"
   ]
  },
  {
   "cell_type": "code",
   "execution_count": 153,
   "metadata": {},
   "outputs": [],
   "source": [
    "pos = position.iloc[-1].rename(lambda s: s.replace('=X',''))"
   ]
  },
  {
   "cell_type": "code",
   "execution_count": 156,
   "metadata": {},
   "outputs": [
    {
     "name": "stdout",
     "output_type": "stream",
     "text": [
      "EURUSD    0.714286\n",
      "USDJPY   -0.285714\n",
      "GBPUSD   -0.142857\n",
      "USDCHF   -0.428571\n",
      "AUDUSD   -0.142857\n",
      "USDCAD   -0.428571\n",
      "NZDUSD    0.714286\n",
      "Name: 2024-01-23 00:00:00, dtype: float64\n"
     ]
    }
   ],
   "source": [
    "print(pos)"
   ]
  }
 ],
 "metadata": {
  "kernelspec": {
   "display_name": "base",
   "language": "python",
   "name": "python3"
  },
  "language_info": {
   "codemirror_mode": {
    "name": "ipython",
    "version": 3
   },
   "file_extension": ".py",
   "mimetype": "text/x-python",
   "name": "python",
   "nbconvert_exporter": "python",
   "pygments_lexer": "ipython3",
   "version": "3.10.9"
  }
 },
 "nbformat": 4,
 "nbformat_minor": 2
}

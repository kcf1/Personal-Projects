{
 "cells": [
  {
   "cell_type": "code",
   "execution_count": 3,
   "metadata": {},
   "outputs": [
    {
     "name": "stderr",
     "output_type": "stream",
     "text": [
      "/var/folders/vh/jb52psn93fb96vlsr5_kn4m80000gn/T/ipykernel_29674/1345085022.py:3: DeprecationWarning: \n",
      "Pyarrow will become a required dependency of pandas in the next major release of pandas (pandas 3.0),\n",
      "(to allow more performant data types, such as the Arrow string type, and better interoperability with other libraries)\n",
      "but was not found to be installed on your system.\n",
      "If this would cause problems for you,\n",
      "please provide us feedback at https://github.com/pandas-dev/pandas/issues/54466\n",
      "        \n",
      "  import pandas as pd\n"
     ]
    }
   ],
   "source": [
    "from histdata import download_hist_data as dl\n",
    "from histdata.api import Platform as P, TimeFrame as TF\n",
    "import pandas as pd\n",
    "import numpy as np\n",
    "from matplotlib import pyplot as plt\n",
    "import seaborn as sns\n",
    "import yfinance as yf\n",
    "import pandas_datareader as pdr\n",
    "from statsmodels import api as sm\n",
    "from re import match\n",
    "from datetime import datetime as dt\n",
    "\n",
    "sns.set()\n",
    "sns.set(rc={'figure.figsize':(30,8)})\n",
    "SNS_CMAP = sns.light_palette(\"seagreen\", as_cmap=True)\n",
    "SNS_COLOR = sns.color_palette('muted')"
   ]
  },
  {
   "cell_type": "code",
   "execution_count": 9,
   "metadata": {},
   "outputs": [
    {
     "name": "stdout",
     "output_type": "stream",
     "text": [
      "https://www.histdata.com/download-free-forex-historical-data/?/ascii/1-minute-bar-quotes/eurusd/2023\n",
      "{'tk': '3640519ec6a83d31e4ecfbdaea28f60b', 'date': '2023', 'datemonth': '2023', 'platform': 'ASCII', 'timeframe': 'M1', 'fxpair': 'EURUSD'}\n",
      "Wrote to ./DAT_ASCII_EURUSD_M1_2023.zip\n"
     ]
    },
    {
     "data": {
      "text/plain": [
       "'./DAT_ASCII_EURUSD_M1_2023.zip'"
      ]
     },
     "execution_count": 9,
     "metadata": {},
     "output_type": "execute_result"
    }
   ],
   "source": [
    "dl(year='2023', month=None, pair='eurusd', platform=P.GENERIC_ASCII, time_frame=TF.ONE_MINUTE)"
   ]
  },
  {
   "cell_type": "code",
   "execution_count": null,
   "metadata": {},
   "outputs": [],
   "source": []
  }
 ],
 "metadata": {
  "kernelspec": {
   "display_name": "py10",
   "language": "python",
   "name": "python3"
  },
  "language_info": {
   "codemirror_mode": {
    "name": "ipython",
    "version": 3
   },
   "file_extension": ".py",
   "mimetype": "text/x-python",
   "name": "python",
   "nbconvert_exporter": "python",
   "pygments_lexer": "ipython3",
   "version": "3.10.9"
  }
 },
 "nbformat": 4,
 "nbformat_minor": 2
}
